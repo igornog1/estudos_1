{
 "cells": [
  {
   "cell_type": "code",
   "execution_count": 14,
   "metadata": {},
   "outputs": [],
   "source": [
    "#pip install handcalcs"
   ]
  },
  {
   "cell_type": "code",
   "execution_count": 15,
   "metadata": {},
   "outputs": [],
   "source": [
    "import handcalcs.render as render\n",
    "from handcalcs import handcalc"
   ]
  },
  {
   "cell_type": "markdown",
   "metadata": {},
   "source": [
    "## Taxa de Juros Simples"
   ]
  },
  {
   "cell_type": "code",
   "execution_count": 16,
   "metadata": {},
   "outputs": [
    {
     "name": "stdout",
     "output_type": "stream",
     "text": [
      "Juros recebidos: R$ 800 reais\n",
      "Taxa de juros: 8.0% a.p.\n"
     ]
    }
   ],
   "source": [
    "# Exemplo direto\n",
    "p = 10_000 #reais\n",
    "m = 10_800 #reais\n",
    "j = m-p #juros em reais\n",
    "print(f'Juros recebidos: R$ {j} reais')\n",
    "i = 100*(m/p -1)\n",
    "print(f'Taxa de juros: {round(i,2)}% a.p.')"
   ]
  },
  {
   "cell_type": "code",
   "execution_count": 17,
   "metadata": {},
   "outputs": [],
   "source": [
    "# montante simples\n",
    "@handcalc(jupyter_display=True)\n",
    "def montante_simples(p,i,n):\n",
    "    ms = (1+n*i/100)*p\n",
    "    return ms"
   ]
  },
  {
   "cell_type": "code",
   "execution_count": 18,
   "metadata": {},
   "outputs": [
    {
     "data": {
      "text/latex": [
       "\\[\n",
       "\\begin{aligned}\n",
       "\\mathrm{ms} &= \\left( 1 + n \\cdot \\frac{ i }{ 100 } \\right) \\cdot p  = \\left( 1 + 5 \\cdot \\frac{ 7 }{ 100 } \\right) \\cdot 20000 &= 27000.000  \n",
       "\\end{aligned}\n",
       "\\]"
      ],
      "text/plain": [
       "<IPython.core.display.Latex object>"
      ]
     },
     "metadata": {},
     "output_type": "display_data"
    },
    {
     "name": "stdout",
     "output_type": "stream",
     "text": [
      "O montante da operação é: 27000.0\n"
     ]
    }
   ],
   "source": [
    "# Exemplo 2:\n",
    "p = 20_000 #reais\n",
    "n = 5 #anos\n",
    "i= 7 #% a.a. \n",
    "ms = montante_simples(p,i,n)\n",
    "print(f'O montante da operação é: {ms}')"
   ]
  },
  {
   "cell_type": "markdown",
   "metadata": {},
   "source": [
    "## Taxa de Juros Compostos"
   ]
  },
  {
   "cell_type": "code",
   "execution_count": 19,
   "metadata": {},
   "outputs": [],
   "source": [
    "@handcalc(jupyter_display=True)\n",
    "def montante_composto(p,i,n):\n",
    "    mc = p*(1+i/100)**n\n",
    "    return mc"
   ]
  },
  {
   "cell_type": "code",
   "execution_count": 20,
   "metadata": {},
   "outputs": [
    {
     "data": {
      "text/latex": [
       "\\[\n",
       "\\begin{aligned}\n",
       "\\mathrm{mc} &= p \\cdot \\left( 1 + \\frac{ i }{ 100 } \\right) ^{ n }  = 20000 \\cdot \\left( 1 + \\frac{ 0.650 }{ 100 } \\right) ^{ 4 } &= 20525.092  \n",
       "\\end{aligned}\n",
       "\\]"
      ],
      "text/plain": [
       "<IPython.core.display.Latex object>"
      ]
     },
     "metadata": {},
     "output_type": "display_data"
    },
    {
     "name": "stdout",
     "output_type": "stream",
     "text": [
      "O montante da operação é 20525.09\n"
     ]
    }
   ],
   "source": [
    "p = 20_000 #reais\n",
    "n = 4 #meses\n",
    "i = 0.65 # %a.m.\n",
    "mc = montante_composto(p,i,n)\n",
    "print(f'O montante da operação é {round(mc,2)}')"
   ]
  },
  {
   "cell_type": "markdown",
   "metadata": {},
   "source": [
    "## Comparação Regimes de Capitalização"
   ]
  },
  {
   "cell_type": "code",
   "execution_count": 21,
   "metadata": {},
   "outputs": [
    {
     "data": {
      "text/latex": [
       "\\[\n",
       "\\begin{aligned}\n",
       "\\mathrm{ms} &= \\left( 1 + n \\cdot \\frac{ i }{ 100 } \\right) \\cdot p  = \\left( 1 + 1 \\cdot \\frac{ 7.100 }{ 100 } \\right) \\cdot 10000 &= 10710.000  \n",
       "\\end{aligned}\n",
       "\\]"
      ],
      "text/plain": [
       "<IPython.core.display.Latex object>"
      ]
     },
     "metadata": {},
     "output_type": "display_data"
    },
    {
     "data": {
      "text/latex": [
       "\\[\n",
       "\\begin{aligned}\n",
       "\\mathrm{ms} &= \\left( 1 + n \\cdot \\frac{ i }{ 100 } \\right) \\cdot p  = \\left( 1 + 10 \\cdot \\frac{ 7.100 }{ 100 } \\right) \\cdot 10000 &= 17100.000  \n",
       "\\end{aligned}\n",
       "\\]"
      ],
      "text/plain": [
       "<IPython.core.display.Latex object>"
      ]
     },
     "metadata": {},
     "output_type": "display_data"
    },
    {
     "data": {
      "text/latex": [
       "\\[\n",
       "\\begin{aligned}\n",
       "\\mathrm{mc} &= p \\cdot \\left( 1 + \\frac{ i }{ 100 } \\right) ^{ n }  = 10000 \\cdot \\left( 1 + \\frac{ 7.100 }{ 100 } \\right) ^{ 1 } &= 10710.000  \n",
       "\\end{aligned}\n",
       "\\]"
      ],
      "text/plain": [
       "<IPython.core.display.Latex object>"
      ]
     },
     "metadata": {},
     "output_type": "display_data"
    },
    {
     "data": {
      "text/latex": [
       "\\[\n",
       "\\begin{aligned}\n",
       "\\mathrm{mc} &= p \\cdot \\left( 1 + \\frac{ i }{ 100 } \\right) ^{ n }  = 10000 \\cdot \\left( 1 + \\frac{ 7.100 }{ 100 } \\right) ^{ 10 } &= 19856.135  \n",
       "\\end{aligned}\n",
       "\\]"
      ],
      "text/plain": [
       "<IPython.core.display.Latex object>"
      ]
     },
     "metadata": {},
     "output_type": "display_data"
    },
    {
     "name": "stdout",
     "output_type": "stream",
     "text": [
      "DIF: [0.0, -2756.134608011427]\n"
     ]
    }
   ],
   "source": [
    "p = 10_000 #reais\n",
    "i = 7.1 # %a.a.\n",
    "N = [1,10]\n",
    "ms = [montante_simples(p,i,n) for n in N]\n",
    "mc = [montante_composto(p,i,n) for n in N]\n",
    "dif = [x-y for x,y in zip(ms,mc)]\n",
    "print(F'DIF: {dif}')"
   ]
  },
  {
   "cell_type": "code",
   "execution_count": 22,
   "metadata": {},
   "outputs": [
    {
     "data": {
      "image/png": "[encoded data removed]",
      "text/plain": [
       "<Figure size 432x288 with 1 Axes>"
      ]
     },
     "metadata": {
      "needs_background": "light"
     },
     "output_type": "display_data"
    }
   ],
   "source": [
    "import matplotlib.pyplot as plt\n",
    "plt.plot(N,ms,color='b',label='simples')\n",
    "plt.plot(N,mc,color='r',label='composto')\n",
    "plt.grid(True)"
   ]
  },
  {
   "cell_type": "markdown",
   "metadata": {},
   "source": [
    "## Taxas Equivalentes (juros compostos)"
   ]
  },
  {
   "cell_type": "markdown",
   "metadata": {},
   "source": [
    "Conversão de taxa de juros compostos em períodos (n) diferentes"
   ]
  },
  {
   "cell_type": "code",
   "execution_count": 23,
   "metadata": {},
   "outputs": [],
   "source": [
    "@handcalc(jupyter_display=True)\n",
    "def taxas_equivalentes(il,n1,n2):\n",
    "    i2 = (1+il/100)**(n1/n2) -1\n",
    "    return i2*100"
   ]
  },
  {
   "cell_type": "code",
   "execution_count": 24,
   "metadata": {},
   "outputs": [
    {
     "data": {
      "text/latex": [
       "\\[\n",
       "\\begin{aligned}\n",
       "\\mathrm{i2} &= \\left( 1 + \\frac{ \\mathrm{il} }{ 100 } \\right) ^{ \\left( \\frac{ \\mathrm{n1} }{ \\mathrm{n2} } \\right) } - 1  = \\left( 1 + \\frac{ 0.800 }{ 100 } \\right) ^{ \\left( \\frac{ 12 }{ 1 } \\right) } - 1 &= 0.100  \n",
       "\\end{aligned}\n",
       "\\]"
      ],
      "text/plain": [
       "<IPython.core.display.Latex object>"
      ]
     },
     "metadata": {},
     "output_type": "display_data"
    },
    {
     "name": "stdout",
     "output_type": "stream",
     "text": [
      "A taxa anual equivalente à taxa de 0.8% a.m. é 10.03 % a.a.\n"
     ]
    }
   ],
   "source": [
    "i1 = 0.8 # %a.m.\n",
    "n1 = 12\n",
    "n2 = 1\n",
    "i2 = taxas_equivalentes(i1, n1, n2)\n",
    "print(f'A taxa anual equivalente à taxa de 0.8% a.m. é {round(i2,2)} % a.a.')"
   ]
  },
  {
   "cell_type": "markdown",
   "metadata": {},
   "source": [
    "## Txa Nominal e Efetiva"
   ]
  },
  {
   "cell_type": "code",
   "execution_count": null,
   "metadata": {},
   "outputs": [],
   "source": []
  }
 ],
 "metadata": {
  "kernelspec": {
   "display_name": "Python 3",
   "language": "python",
   "name": "python3"
  },
  "language_info": {
   "codemirror_mode": {
    "name": "ipython",
    "version": 3
   },
   "file_extension": ".py",
   "mimetype": "text/x-python",
   "name": "python",
   "nbconvert_exporter": "python",
   "pygments_lexer": "ipython3",
   "version": "3.9.7"
  }
 },
 "nbformat": 4,
 "nbformat_minor": 2
}
